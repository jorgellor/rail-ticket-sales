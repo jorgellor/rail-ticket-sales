{
 "cells": [
  {
   "cell_type": "code",
   "execution_count": 1,
   "id": "eae3217d",
   "metadata": {},
   "outputs": [
    {
     "name": "stdout",
     "output_type": "stream",
     "text": [
      "Rows Loaded: 29593111\n"
     ]
    }
   ],
   "source": [
    "#Load files and clean data\n",
    "\n",
    "import pandas as pd\n",
    "import numpy as np\n",
    "import csv\n",
    "import warnings\n",
    "\n",
    "warnings.simplefilter(action='ignore', category=FutureWarning)\n",
    "\n",
    "#Columns to load\n",
    "columns = ['id','company', 'origin', 'destination', 'departure', 'arrival', 'duration',\n",
    "       'vehicle_type', 'vehicle_class', 'price', 'fare', 'seats']\n",
    "\n",
    "#Load ticket sales file\n",
    "renfe = pd.read_csv(\"thegurus-opendata-renfe-trips.csv\", usecols = columns, index_col = ['id'])\n",
    "\n",
    "\n",
    "#Drop rows with nulls in selected columns\n",
    "renfe = renfe.dropna(subset=['price', 'origin', 'destination', 'departure', 'arrival'])\n",
    "\n",
    "#Unify City names in one language\n",
    "renfe.loc[renfe[\"origin\"] == 'CASTELLO', \"origin\"] = 'CASTELLON'\n",
    "renfe.loc[renfe[\"destination\"] == 'CASTELLO', \"destination\"] = 'CASTELLON'\n",
    "\n",
    "#Remove accent marks to unify city names\n",
    "renfe[\"origin\"] = renfe[\"origin\"].str.replace('Á','A', regex = True)\n",
    "renfe[\"destination\"] = renfe[\"destination\"].str.replace('Á','Á', regex = True)\n",
    "renfe[\"origin\"] = renfe[\"origin\"].str.replace('É','É', regex = True)\n",
    "renfe[\"destination\"] = renfe[\"destination\"].str.replace('É','E', regex = True)\n",
    "renfe[\"origin\"] = renfe[\"origin\"].str.replace('Í','I', regex = True)\n",
    "renfe[\"destination\"] = renfe[\"destination\"].str.replace('Í','I', regex = True)\n",
    "renfe[\"origin\"] = renfe[\"origin\"].str.replace('Ó','O', regex = True)\n",
    "renfe[\"destination\"] = renfe[\"destination\"].str.replace('Ó','O', regex = True)\n",
    "renfe[\"origin\"] = renfe[\"origin\"].str.replace('Ú','U', regex = True)\n",
    "renfe[\"destination\"] = renfe[\"destination\"].str.replace('Ú','U', regex = True)\n",
    "\n",
    "#Unify travel types names\n",
    "renfe.loc[renfe[\"vehicle_type\"] == 'R. EXPRES', \"vehicle_type\"] = 'REG.EXP.'\n",
    "renfe.loc[renfe[\"vehicle_type\"] == 'AVE-AVE', \"vehicle_type\"] = 'AVE'\n",
    "\n",
    "print(\"Rows Loaded: \" + str(len(renfe.index)))\n",
    "\n",
    "#Load coordinates file\n",
    "cities = pd.read_csv(\"coordenadas.csv\", sep = ';')\n",
    "\n"
   ]
  },
  {
   "cell_type": "code",
   "execution_count": 2,
   "id": "f7aed3b1",
   "metadata": {},
   "outputs": [
    {
     "name": "stdout",
     "output_type": "stream",
     "text": [
      "   COMPANY_ID COMPANY_DESC\n",
      "0           0        renfe\n"
     ]
    }
   ],
   "source": [
    "# Companies\n",
    "\n",
    "companies = np.sort(renfe.company.unique()).astype(str)\n",
    "\n",
    "companies_unique = np.unique(companies)\n",
    "companies_unique = pd.DataFrame(companies_unique, index = np.arange(len(companies_unique)))\n",
    "\n",
    "companies_unique.reset_index(inplace=True)\n",
    "\n",
    "#Rename Columns\n",
    "companies_unique.columns = ['COMPANY_ID','COMPANY_DESC']\n",
    "\n",
    "print(companies_unique)"
   ]
  },
  {
   "cell_type": "code",
   "execution_count": 3,
   "id": "1b686654",
   "metadata": {},
   "outputs": [
    {
     "name": "stdout",
     "output_type": "stream",
     "text": [
      "    CITY_ID    CITY_DESC   LATITUDE  LONGITUDE\n",
      "0         0     ALBACETE  38.973864  -1.853066\n",
      "1         1     ALICANTE  38.409151  -0.512787\n",
      "2         2    BARCELONA  41.381800   2.168500\n",
      "3         3        CADIZ  36.500876  -6.268435\n",
      "4         4    CASTELLON  39.986068  -0.036024\n",
      "5         5  CIUDAD REAL  38.955416  -3.980987\n",
      "6         6      CORDOBA  37.855096  -4.708674\n",
      "7         7       CUENCA  40.217912  -1.991949\n",
      "8         8       GIRONA  41.984200   2.823900\n",
      "9         9      GRANADA  37.188627  -3.590778\n",
      "10       10  GUADALAJARA  40.643624  -3.171878\n",
      "11       11       HUESCA  42.148378  -0.412534\n",
      "12       12         LEON  42.573567  -5.567159\n",
      "13       13       LLEIDA  41.610900   0.641900\n",
      "14       14       MADRID  40.489354  -3.682746\n",
      "15       15       MALAGA  36.758541  -4.397172\n",
      "16       16     PALENCIA  41.986007  -4.564922\n",
      "17       17   PONFERRADA  42.502529  -6.571949\n",
      "18       18      SEGOVIA  40.901942  -4.182989\n",
      "19       19      SEVILLA  37.391411  -5.959178\n",
      "20       20    TARRAGONA  41.115000   1.249900\n",
      "21       21       TOLEDO  39.862824  -4.027374\n",
      "22       22     VALENCIA  39.456117  -0.354566\n",
      "23       23   VALLADOLID  41.652297  -4.728541\n",
      "24       24       ZAMORA  41.522586  -5.800537\n",
      "25       25     ZARAGOZA  41.656350  -0.876566\n"
     ]
    }
   ],
   "source": [
    "# Cities \n",
    "\n",
    "cities['Ciudad'] = cities['Ciudad'].str.upper() \n",
    "\n",
    "cities.lat.astype(float)\n",
    "cities.Ing.astype(float)\n",
    "\n",
    "origins = np.sort(renfe.origin.unique()).astype(str)\n",
    "\n",
    "origins_unique = np.unique(np.char.upper(origins))\n",
    "\n",
    "origins_unique = pd.DataFrame(origins_unique, index = np.arange(len(origins_unique)))\n",
    "\n",
    "origins_unique.reset_index(inplace=True)\n",
    "\n",
    "origins_unique.columns = ['CITY_ID','CITY_DESC']\n",
    "\n",
    "cities_loc = origins_unique.merge(cities, left_on = 'CITY_DESC', right_on ='Ciudad', how = 'left').drop(columns = ['Ciudad'])\n",
    "\n",
    "#Rename Columns\n",
    "cities_loc.columns = ['CITY_ID','CITY_DESC','LATITUDE', 'LONGITUDE']\n",
    "\n",
    "print(cities_loc)"
   ]
  },
  {
   "cell_type": "code",
   "execution_count": 4,
   "id": "12fb27ed",
   "metadata": {},
   "outputs": [
    {
     "name": "stdout",
     "output_type": "stream",
     "text": [
      "    TRAVEL_TYPE_ID TRAVEL_TYPE_DESC\n",
      "0                0          ALTARIA\n",
      "1                1            ALVIA\n",
      "2                2          AV CITY\n",
      "3                3            AVANT\n",
      "4                4        AVANT-AVE\n",
      "5                5         AVANT-LD\n",
      "6                6         AVANT-MD\n",
      "7                7              AVE\n",
      "8                8        AVE-AVANT\n",
      "9                9           AVE-LD\n",
      "10              10           AVE-MD\n",
      "11              11          AVE-TGV\n",
      "12              12             AVLO\n",
      "13              13          EUROMED\n",
      "14              14        INTERCITY\n",
      "15              15               LD\n",
      "16              16         LD-AVANT\n",
      "17              17           LD-AVE\n",
      "18              18            LD-MD\n",
      "19              19               MD\n",
      "20              20         MD-AVANT\n",
      "21              21           MD-AVE\n",
      "22              22            MD-LD\n",
      "23              23         REG.EXP.\n",
      "24              24         REGIONAL\n",
      "25              25        TORRE ORO\n",
      "26              26        TRENHOTEL\n"
     ]
    }
   ],
   "source": [
    "# Travel types \n",
    "\n",
    "travel_types = np.sort(renfe.vehicle_type.unique()).astype(str)\n",
    "\n",
    "travel_types_unique = np.unique(np.char.upper(travel_types))\n",
    "\n",
    "travel_types_unique = pd.DataFrame(travel_types_unique, index = np.arange(len(travel_types_unique)))\n",
    "\n",
    "travel_types_unique.reset_index(inplace=True)\n",
    "\n",
    "#Rename Columns\n",
    "travel_types_unique.columns = ['TRAVEL_TYPE_ID','TRAVEL_TYPE_DESC']\n",
    "\n",
    "print(travel_types_unique)"
   ]
  },
  {
   "cell_type": "code",
   "execution_count": 5,
   "id": "619f9f43",
   "metadata": {},
   "outputs": [
    {
     "name": "stdout",
     "output_type": "stream",
     "text": [
      "    FARE_ID                FARE_DESC\n",
      "0         0                    4x100\n",
      "1         1               Adulto ida\n",
      "2         2                   Básica\n",
      "3         3          COD.PROMOCIONAL\n",
      "4         4  Doble Familiar-Flexible\n",
      "5         5                 Flexible\n",
      "6         6               Grupos Ida\n",
      "7         7      Individual-Flexible\n",
      "8         8                     Mesa\n",
      "9         9                    Promo\n",
      "10       10                  Promo +\n",
      "11       11                    YOVOY\n"
     ]
    }
   ],
   "source": [
    "# Fares\n",
    "\n",
    "fares = np.sort(renfe.fare.unique()).astype(str)\n",
    "\n",
    "fares_unique = pd.DataFrame(fares, index = np.arange(len(fares)))\n",
    "\n",
    "fares_unique.reset_index(inplace=True)\n",
    "\n",
    "#Rename Columns\n",
    "fares_unique.columns = ['FARE_ID','FARE_DESC']\n",
    "\n",
    "print(fares_unique)\n"
   ]
  },
  {
   "cell_type": "code",
   "execution_count": 6,
   "id": "04f98c66",
   "metadata": {},
   "outputs": [
    {
     "name": "stdout",
     "output_type": "stream",
     "text": [
      "    CLASS_ID                CLASS_DESC\n",
      "0          0             Cama G. Clase\n",
      "1          1              Cama Turista\n",
      "2          2                Preferente\n",
      "3          3    PreferenteSólo plaza H\n",
      "4          4                   Turista\n",
      "5          5    Turista - Turista Plus\n",
      "6          6              Turista Plus\n",
      "7          7    Turista Plus - Turista\n",
      "8          8  Turista PlusSólo plaza H\n",
      "9          9        Turista con enlace\n",
      "10        10       TuristaSólo plaza H\n"
     ]
    }
   ],
   "source": [
    "# Classes\n",
    "\n",
    "vehicle_class = np.sort(renfe.vehicle_class.unique()).astype(str)\n",
    "\n",
    "vehicle_class_unique = pd.DataFrame(vehicle_class, index = np.arange(len(vehicle_class)))\n",
    "\n",
    "vehicle_class_unique.reset_index(inplace=True)\n",
    "\n",
    "#Rename Columns\n",
    "vehicle_class_unique.columns = ['CLASS_ID','CLASS_DESC']\n",
    "\n",
    "print(vehicle_class_unique)"
   ]
  },
  {
   "cell_type": "code",
   "execution_count": 7,
   "id": "8ee08fb6",
   "metadata": {},
   "outputs": [
    {
     "name": "stdout",
     "output_type": "stream",
     "text": [
      "   COMPANY_ID  ORIGIN_ID  DESTINATION_ID           DEPARTURE  \\\n",
      "0           0         14             2.0 2019-04-18 05:50:00   \n",
      "1           0         14             2.0 2019-04-18 13:25:00   \n",
      "2           0         14             2.0 2019-04-18 06:30:00   \n",
      "3           0         14             2.0 2019-04-18 07:00:00   \n",
      "4           0         14             2.0 2019-04-18 06:30:00   \n",
      "\n",
      "              ARRIVAL  TRAVEL_DURATION  TRAVEL_TYPE_ID  CLASS_ID  FARE_ID  \\\n",
      "0 2019-04-18 08:55:00             3.08             7.0         2        9   \n",
      "1 2019-04-18 16:24:00             2.98            11.0         4        5   \n",
      "2 2019-04-18 09:20:00             2.83             7.0         4        9   \n",
      "3 2019-04-18 09:30:00             2.50             7.0         6        9   \n",
      "4 2019-04-18 09:20:00             2.83             7.0         4        9   \n",
      "\n",
      "   SEATS   PRICE  \n",
      "0    NaN   68.95  \n",
      "1    NaN  107.70  \n",
      "2    NaN   75.40  \n",
      "3    NaN  106.75  \n",
      "4    NaN   75.40  \n"
     ]
    }
   ],
   "source": [
    "# Ticket sales\n",
    "\n",
    "#Merge Dataframes\n",
    "renfe_company = renfe.merge(companies_unique, left_on = 'company', right_on ='COMPANY_DESC', how = 'left').drop(columns = ['COMPANY_DESC','company'])\n",
    "\n",
    "renfe_vehicles = renfe_company.merge(travel_types_unique, left_on = 'vehicle_type', right_on ='TRAVEL_TYPE_DESC', how = 'left').drop(columns = ['TRAVEL_TYPE_DESC','vehicle_type'])\n",
    "\n",
    "renfe_origins = renfe_vehicles.merge(origins_unique, left_on = 'origin', right_on ='CITY_DESC', how = 'left').drop(columns = ['CITY_DESC','origin'])\n",
    "\n",
    "renfe_destinations = renfe_origins.merge(origins_unique, left_on = 'destination', right_on ='CITY_DESC', how = 'left').drop(columns = ['CITY_DESC','destination'])\n",
    "\n",
    "renfe_fares = renfe_destinations.merge(fares_unique, left_on = 'fare', right_on ='FARE_DESC', how = 'left').drop(columns = ['FARE_DESC','fare'])\n",
    "\n",
    "renfe_classes = renfe_fares.merge(vehicle_class_unique, left_on = 'vehicle_class', right_on ='CLASS_DESC', how = 'left').drop(columns = ['CLASS_DESC','vehicle_class'])\n",
    "\n",
    "\n",
    "order_columns = ['COMPANY_ID', 'CITY_ID_x', 'CITY_ID_y', 'departure', 'arrival', 'duration', 'TRAVEL_TYPE_ID', 'CLASS_ID', 'FARE_ID', 'seats', 'price']\n",
    "\n",
    "renfe_classes = renfe_classes.reindex(columns = order_columns)\n",
    "\n",
    "\n",
    "db_columns = ['COMPANY_ID', 'ORIGIN_ID', 'DESTINATION_ID', 'DEPARTURE', 'ARRIVAL', 'TRAVEL_DURATION', 'TRAVEL_TYPE_ID', 'CLASS_ID', 'FARE_ID', 'SEATS', 'PRICE']\n",
    "\n",
    "#Rename Columns\n",
    "renfe_classes.columns =db_columns\n",
    "\n",
    "renfe_classes['DEPARTURE'] = pd.to_datetime(renfe_classes['DEPARTURE'])\n",
    "renfe_classes['ARRIVAL'] = pd.to_datetime(renfe_classes['ARRIVAL'])\n",
    "\n",
    "print(renfe_classes.head())"
   ]
  },
  {
   "cell_type": "code",
   "execution_count": 9,
   "id": "3af41bc3",
   "metadata": {},
   "outputs": [
    {
     "name": "stdout",
     "output_type": "stream",
     "text": [
      "Loading complete\n"
     ]
    }
   ],
   "source": [
    "# Database loading\n",
    "\n",
    "from sqlalchemy.engine import create_engine\n",
    "\n",
    "#Database Connection parameters\n",
    "DIALECT = 'oracle'\n",
    "SQL_DRIVER = 'cx_oracle'\n",
    "USERNAME =  \n",
    "PASSWORD =  \n",
    "HOST = 'localhost' \n",
    "PORT = 1521 \n",
    "SERVICE = 'xe' \n",
    "ENGINE_PATH_WIN_AUTH = DIALECT + '+' + SQL_DRIVER + '://' + USERNAME + ':' + PASSWORD +'@' + HOST + ':' + str(PORT) + '/?service_name=' + SERVICE\n",
    "\n",
    "#Engine creation\n",
    "engine = create_engine(ENGINE_PATH_WIN_AUTH)\n",
    "#Connection creation\n",
    "con = engine.connect()\n",
    "\n",
    "#Empty Database tables\n",
    "con.execute('TRUNCATE TABLE lu_companies')\n",
    "con.execute('TRUNCATE TABLE lu_travel_types')\n",
    "con.execute('TRUNCATE TABLE lu_vehicle_classes')\n",
    "con.execute('TRUNCATE TABLE lu_cities')\n",
    "con.execute('TRUNCATE TABLE lu_fares')\n",
    "con.execute('TRUNCATE TABLE dim_ticket_prices')\n",
    "\n",
    "#Load Companies table\n",
    "companies_unique.to_sql(con = engine, name = 'lu_companies', index = False, if_exists='append')\n",
    "#Load Travel types table\n",
    "travel_types_unique.to_sql(con = engine, name = 'lu_travel_types', index = False, if_exists='append')\n",
    "#Load Classes table\n",
    "vehicle_class_unique.to_sql(con = engine, name = 'lu_vehicle_classes', index = False, if_exists='append')\n",
    "#Load Cities table\n",
    "cities_loc.to_sql(con = engine, name = 'lu_cities', index = False, if_exists='append')\n",
    "#Load Fares table\n",
    "fares_unique.to_sql(con = engine, name = 'lu_fares', index = False, if_exists='append')\n",
    "\n",
    "#Load Ticket sales table in 1M rows chunks\n",
    "i = 1\n",
    "while i <  len(renfe_classes.index):\n",
    "    renfe_classes.iloc[i:i+1000000,:].to_sql(con = engine, name = 'dim_ticket_prices', index = False, if_exists='append')\n",
    "    i=i+1000000\n",
    "\n",
    "print('Loading complete')\n",
    "    \n",
    "# Close connection\n",
    "con.close()"
   ]
  },
  {
   "cell_type": "code",
   "execution_count": null,
   "id": "8c18ef94",
   "metadata": {},
   "outputs": [],
   "source": []
  }
 ],
 "metadata": {
  "kernelspec": {
   "display_name": "Python 3 (ipykernel)",
   "language": "python",
   "name": "python3"
  },
  "language_info": {
   "codemirror_mode": {
    "name": "ipython",
    "version": 3
   },
   "file_extension": ".py",
   "mimetype": "text/x-python",
   "name": "python",
   "nbconvert_exporter": "python",
   "pygments_lexer": "ipython3",
   "version": "3.9.7"
  }
 },
 "nbformat": 4,
 "nbformat_minor": 5
}
